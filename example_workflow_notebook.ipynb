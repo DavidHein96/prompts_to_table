{
 "cells": [
  {
   "cell_type": "markdown",
   "metadata": {},
   "source": [
    "# Prompts 2 Table"
   ]
  },
  {
   "cell_type": "markdown",
   "metadata": {},
   "source": [
    "Welcome! This workbook walks through some examples in using the prompts 2 tables code base for information extraction from reports w/LLMs"
   ]
  },
  {
   "cell_type": "code",
   "execution_count": 1,
   "metadata": {},
   "outputs": [],
   "source": [
    "# First import the PFClient to use the client to interact with PromptFlow\n",
    "# Then there are some helper functions that are used to run the flow and get the results\n",
    "from promptflow.client import PFClient\n",
    "from app.helper_functions.run_pf_wrapper import pf_batch_run_wrapper\n",
    "from app.helper_functions.flat_results import flatten_outputs\n",
    "from app.helper_functions.get_json_outputs import get_json_outputs\n",
    "\n",
    "# Creating the client\n",
    "pf_client = PFClient()\n"
   ]
  },
  {
   "cell_type": "code",
   "execution_count": 3,
   "metadata": {},
   "outputs": [
    {
     "name": "stderr",
     "output_type": "stream",
     "text": [
      "[2025-02-11 17:59:58 -0600][promptflow._sdk._orchestrator.run_submitter][INFO] - Submitting run feature_report_flow_variant_0_20250211_175958_447425, log path: /Users/S197002/.promptflow/.runs/feature_report_flow_variant_0_20250211_175958_447425/logs.txt\n"
     ]
    },
    {
     "name": "stdout",
     "output_type": "stream",
     "text": [
      "Prompt flow service has started...\n",
      "You can view the traces in local from http://127.0.0.1:23333/v1.0/ui/traces/?#run=feature_report_flow_variant_0_20250211_175958_447425\n",
      "All done! Check out the results in the flow_result object\n"
     ]
    }
   ],
   "source": [
    "\n",
    "# Running the flow for diagnosis. Diagnosis is a feature report meaning there is one diagnosis per report\n",
    "# Note that if you want to see what the intermediate data looks like, set flush_intermediate_data to False\n",
    "flow_result_diagnosis = pf_batch_run_wrapper(\n",
    "    pf_client, \n",
    "    data_path=\"example_data/input/example_jsonl_data.jsonl\",\n",
    "    schema_path=\"app/schemas/pathology_rcc_schema_v11.json\",\n",
    "    item_name=\"diagnosis\", \n",
    "    connection_name=\"kidney_west\", \n",
    "    connection_model=\"kidney_gpt4o\"\n",
    ")\n",
    "\n",
    "# Getting the full results in a dataframe from promptflow\n",
    "df_diag = pf_client.get_details(flow_result_diagnosis)\n",
    "\n",
    "# This handy function extracts and organizes the results in a neat dataframe \n",
    "flat_df_diag = flatten_outputs(pf_client=pf_client, flow_result=flow_result_diagnosis)\n",
    "\n",
    "# This dataframe can then be saved as a csv file\n",
    "flat_df_diag.to_csv(\"example_data/output_flat/diagnosis.csv\", index=False)\n",
    "\n",
    "# This function gets the full JSON outputs from the flow so you can check out the reasoning sections\n",
    "json_outs_diag = get_json_outputs(pf_client=pf_client, flow_result=flow_result_diagnosis)\n",
    "\n",
    "# This can be saved to a JSON file\n",
    "json_outs_diag.to_json('example_data/output_json/diagnosis.json', orient='index')"
   ]
  },
  {
   "cell_type": "code",
   "execution_count": 5,
   "metadata": {},
   "outputs": [
    {
     "name": "stderr",
     "output_type": "stream",
     "text": [
      "[2025-02-12 11:12:15 -0600][promptflow._sdk._orchestrator.run_submitter][INFO] - Submitting run feature_specimen_flow_variant_0_20250212_111214_909575, log path: /Users/S197002/.promptflow/.runs/feature_specimen_flow_variant_0_20250212_111214_909575/logs.txt\n"
     ]
    },
    {
     "name": "stdout",
     "output_type": "stream",
     "text": [
      "Prompt flow service has started...\n",
      "You can view the traces in local from http://127.0.0.1:23333/v1.0/ui/traces/?#run=feature_specimen_flow_variant_0_20250212_111214_909575\n",
      "All done! Check out the results in the flow_result object\n"
     ]
    }
   ],
   "source": [
    "# Here we run histology, which is a feature specimen, meaning it will return the histology for each specimen in the report\n",
    "\n",
    "# Histology\n",
    "flow_result_histology = pf_batch_run_wrapper(\n",
    "    pf_client, \n",
    "    data_path=\"example_data/input/example_csv_data.csv\",\n",
    "    schema_path=\"app/schemas/pathology_rcc_schema_v12.json\",\n",
    "    item_name=\"histology\", \n",
    "    connection_name=\"kidney_west\", \n",
    "    connection_model=\"kidney_gpt4o\"\n",
    ")\n",
    "\n",
    "# Getting the full results in a dataframe from promptflow\n",
    "df_hist = pf_client.get_details(flow_result_histology)\n",
    "\n",
    "# This handy function extracts and organizes the results in a neat dataframe \n",
    "flat_df_hist = flatten_outputs(pf_client=pf_client, flow_result=flow_result_histology)\n",
    "\n",
    "# This dataframe can then be saved as a csv file\n",
    "flat_df_hist.to_csv(\"example_data/output_flat/histology.csv\", index=False)\n",
    "\n",
    "# This function gets the full JSON outputs from the flow so you can check out the reasoning sections\n",
    "json_outs_hist = get_json_outputs(pf_client=pf_client, flow_result=flow_result_histology)\n",
    "\n",
    "# This can be saved to a JSON file\n",
    "json_outs_hist.to_json('example_data/output_json/histology.json', orient='index')\n",
    "\n"
   ]
  },
  {
   "cell_type": "code",
   "execution_count": 4,
   "metadata": {},
   "outputs": [
    {
     "name": "stderr",
     "output_type": "stream",
     "text": [
      "[2025-02-11 18:00:28 -0600][promptflow._sdk._orchestrator.run_submitter][INFO] - Submitting run panel_specimen_flow_variant_0_20250211_180027_994970, log path: /Users/S197002/.promptflow/.runs/panel_specimen_flow_variant_0_20250211_180027_994970/logs.txt\n"
     ]
    },
    {
     "name": "stdout",
     "output_type": "stream",
     "text": [
      "Prompt flow service has started...\n",
      "You can view the traces in local from http://127.0.0.1:23333/v1.0/ui/traces/?#run=panel_specimen_flow_variant_0_20250211_180027_994970\n",
      "All done! Check out the results in the flow_result object\n"
     ]
    }
   ],
   "source": [
    "# Here we run immunohistochemistry (ihc), which is a panel specimen, meaning it will return all assays by specimen and block\n",
    "# IHC\n",
    "flow_result_ihc = pf_batch_run_wrapper(\n",
    "    pf_client, \n",
    "    data_path=\"example_data/input/example_jsonl_data.jsonl\",\n",
    "    schema_path=\"app/schemas/pathology_rcc_schema_v11.json\",\n",
    "    item_name=\"immunohistochemistry\", \n",
    "    connection_name=\"kidney_west\", \n",
    "    connection_model=\"kidney_gpt4o\"\n",
    ")\n",
    "\n",
    "# Getting the full results in a dataframe from promptflow\n",
    "df_ihc = pf_client.get_details(flow_result_ihc)\n",
    "\n",
    "# This handy function extracts and organizes the results in a neat dataframe \n",
    "flat_df_ihc = flatten_outputs(pf_client=pf_client, flow_result=flow_result_ihc)\n",
    "\n",
    "# This dataframe can then be saved as a csv file\n",
    "flat_df_ihc.to_csv(\"example_data/output_flat/ihc.csv\", index=False)\n",
    "\n",
    "# This function gets the full JSON outputs from the flow so you can check out the reasoning sections\n",
    "json_outs_ihc = get_json_outputs(pf_client=pf_client, flow_result=flow_result_ihc)\n",
    "\n",
    "# This can be saved to a JSON file\n",
    "json_outs_ihc.to_json('example_data/output_json/ihc.json', orient='index')"
   ]
  }
 ],
 "metadata": {
  "kernelspec": {
   "display_name": ".venv",
   "language": "python",
   "name": "python3"
  },
  "language_info": {
   "codemirror_mode": {
    "name": "ipython",
    "version": 3
   },
   "file_extension": ".py",
   "mimetype": "text/x-python",
   "name": "python",
   "nbconvert_exporter": "python",
   "pygments_lexer": "ipython3",
   "version": "3.11.9"
  }
 },
 "nbformat": 4,
 "nbformat_minor": 2
}
